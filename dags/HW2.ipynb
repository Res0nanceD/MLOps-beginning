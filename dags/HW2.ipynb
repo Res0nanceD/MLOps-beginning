{
 "cells": [
  {
   "cell_type": "code",
   "execution_count": 1,
   "id": "7cdd69e8",
   "metadata": {
    "ExecuteTime": {
     "end_time": "2025-01-22T11:51:57.613902Z",
     "start_time": "2025-01-22T11:51:57.554754Z"
    }
   },
   "outputs": [],
   "source": [
    "import mlflow\n",
    "import os\n",
    "import pandas as pd\n",
    "\n",
    "from mlflow.tracking import MlflowClient\n",
    "from mlflow.models import infer_signature\n",
    "from mlflow.store.artifact.artifact_repository_registry import get_artifact_repository\n",
    "\n",
    "from sklearn.datasets import fetch_california_housing\n",
    "from sklearn.ensemble import RandomForestRegressor\n",
    "from sklearn.linear_model import LinearRegression\n",
    "from sklearn.tree import DecisionTreeRegressor\n",
    "from sklearn.metrics import mean_squared_error, r2_score\n",
    "from sklearn.model_selection import train_test_split\n",
    "from sklearn.preprocessing import StandardScaler"
   ]
  },
  {
   "cell_type": "code",
   "execution_count": 2,
   "id": "e83f5460-00fa-4c0f-8af1-6d594ddbdc56",
   "metadata": {},
   "outputs": [
    {
     "data": {
      "text/plain": [
       "'http://mlflow-service:5000'"
      ]
     },
     "execution_count": 2,
     "metadata": {},
     "output_type": "execute_result"
    }
   ],
   "source": [
    "os.getenv(\"MLFLOW_TRACKING_URI\", \"No env\")"
   ]
  },
  {
   "cell_type": "code",
   "execution_count": 3,
   "id": "c5ed77d3",
   "metadata": {},
   "outputs": [
    {
     "data": {
      "text/plain": [
       "'http://mlflow-service:5000'"
      ]
     },
     "execution_count": 3,
     "metadata": {},
     "output_type": "execute_result"
    }
   ],
   "source": [
    "mlflow.get_registry_uri()"
   ]
  },
  {
   "cell_type": "markdown",
   "id": "3b610c24-ef75-4042-920a-7e5de4b54745",
   "metadata": {},
   "source": [
    "# Настройки эксперимента"
   ]
  },
  {
   "cell_type": "code",
   "execution_count": 4,
   "id": "4c0e7f2b-387d-4bd3-903d-7a597cd5f404",
   "metadata": {},
   "outputs": [
    {
     "data": {
      "text/plain": [
       "<Experiment: artifact_location='s3://mlops-hw/mlflow/516513222953534560', creation_time=1737633585696, experiment_id='516513222953534560', last_update_time=1737633585696, lifecycle_stage='active', name='denis_chuzhmarov', tags={}>"
      ]
     },
     "execution_count": 4,
     "metadata": {},
     "output_type": "execute_result"
    }
   ],
   "source": [
    "experiment_name = \"denis_chuzhmarov\"\n",
    "\n",
    "experiment = mlflow.get_experiment_by_name(experiment_name)\n",
    "if experiment is None:\n",
    "    experiment_id = mlflow.create_experiment(experiment_name)\n",
    "else:\n",
    "    experiment_id = experiment.experiment_id\n",
    "\n",
    "mlflow.set_experiment(experiment_name)"
   ]
  },
  {
   "cell_type": "code",
   "execution_count": 5,
   "id": "0a11f591-b1ac-4a8c-9676-da423cea7cd3",
   "metadata": {},
   "outputs": [
    {
     "data": {
      "text/plain": [
       "[<Experiment: artifact_location='s3://mlops-hw/mlflow/959716346601234858', creation_time=1737674264999, experiment_id='959716346601234858', last_update_time=1737674264999, lifecycle_stage='active', name='DenisChuzhmarov', tags={}>,\n",
       " <Experiment: artifact_location='s3://mlops-hw/mlflow/516513222953534560', creation_time=1737633585696, experiment_id='516513222953534560', last_update_time=1737633585696, lifecycle_stage='active', name='denis_chuzhmarov', tags={}>,\n",
       " <Experiment: artifact_location='s3://mlops-hw/mlflow/0', creation_time=1737633496051, experiment_id='0', last_update_time=1737633496051, lifecycle_stage='active', name='Default', tags={}>]"
      ]
     },
     "execution_count": 5,
     "metadata": {},
     "output_type": "execute_result"
    }
   ],
   "source": [
    "mlflow.search_experiments()"
   ]
  },
  {
   "cell_type": "markdown",
   "id": "5b9b14ba-38d8-4349-975c-0f22bf5074de",
   "metadata": {},
   "source": [
    "# Подготовка данных"
   ]
  },
  {
   "cell_type": "code",
   "execution_count": 6,
   "id": "33b7e3e8-77f4-4811-acf4-9aac7342fd44",
   "metadata": {},
   "outputs": [],
   "source": [
    "# Прочитаем данные.\n",
    "housing = fetch_california_housing(as_frame=True)"
   ]
  },
  {
   "cell_type": "code",
   "execution_count": 7,
   "id": "6afa2419-adb7-4012-a514-21aa867a37a1",
   "metadata": {},
   "outputs": [],
   "source": [
    "data = pd.concat([housing.data, housing.target.rename(\"MedHouseVal\")], axis=1)\n",
    "\n",
    "FEATURES = [\n",
    "    \"MedInc\", \"HouseAge\", \"AveRooms\", \"AveBedrms\",\n",
    "    \"Population\", \"AveOccup\", \"Latitude\", \"Longitude\"\n",
    "]\n",
    "\n",
    "TARGET = \"MedHouseVal\"\n",
    "\n",
    "X = data[FEATURES]\n",
    "y = data[TARGET]\n",
    "\n",
    "X_train, X_test, y_train, y_test = train_test_split(\n",
    "    X, y, test_size=0.2, random_state=42\n",
    ")\n",
    "X_val, X_test, y_val, y_test = train_test_split(X_test, y_test, test_size=0.5)\n",
    "\n",
    "# scaler = StandardScaler()\n",
    "# X_train_scaled = scaler.fit_transform(X_train)\n",
    "# X_test_scaled = scaler.transform(X_test)\n",
    "# X_val_scaled = scaler.transform(X_val)"
   ]
  },
  {
   "cell_type": "code",
   "execution_count": 8,
   "id": "c5c61e9f-1718-4b06-af04-0004e61c93c7",
   "metadata": {},
   "outputs": [
    {
     "data": {
      "text/html": [
       "<div>\n",
       "<style scoped>\n",
       "    .dataframe tbody tr th:only-of-type {\n",
       "        vertical-align: middle;\n",
       "    }\n",
       "\n",
       "    .dataframe tbody tr th {\n",
       "        vertical-align: top;\n",
       "    }\n",
       "\n",
       "    .dataframe thead th {\n",
       "        text-align: right;\n",
       "    }\n",
       "</style>\n",
       "<table border=\"1\" class=\"dataframe\">\n",
       "  <thead>\n",
       "    <tr style=\"text-align: right;\">\n",
       "      <th></th>\n",
       "      <th>MedInc</th>\n",
       "      <th>HouseAge</th>\n",
       "      <th>AveRooms</th>\n",
       "      <th>AveBedrms</th>\n",
       "      <th>Population</th>\n",
       "      <th>AveOccup</th>\n",
       "      <th>Latitude</th>\n",
       "      <th>Longitude</th>\n",
       "    </tr>\n",
       "  </thead>\n",
       "  <tbody>\n",
       "    <tr>\n",
       "      <th>8875</th>\n",
       "      <td>13.8556</td>\n",
       "      <td>52.0</td>\n",
       "      <td>8.948148</td>\n",
       "      <td>1.077778</td>\n",
       "      <td>810.0</td>\n",
       "      <td>3.000000</td>\n",
       "      <td>34.05</td>\n",
       "      <td>-118.49</td>\n",
       "    </tr>\n",
       "    <tr>\n",
       "      <th>9975</th>\n",
       "      <td>3.0938</td>\n",
       "      <td>34.0</td>\n",
       "      <td>5.424569</td>\n",
       "      <td>1.040948</td>\n",
       "      <td>1324.0</td>\n",
       "      <td>2.853448</td>\n",
       "      <td>38.58</td>\n",
       "      <td>-122.45</td>\n",
       "    </tr>\n",
       "    <tr>\n",
       "      <th>17493</th>\n",
       "      <td>9.7821</td>\n",
       "      <td>28.0</td>\n",
       "      <td>8.212871</td>\n",
       "      <td>1.091584</td>\n",
       "      <td>1604.0</td>\n",
       "      <td>3.970297</td>\n",
       "      <td>34.43</td>\n",
       "      <td>-119.77</td>\n",
       "    </tr>\n",
       "    <tr>\n",
       "      <th>4602</th>\n",
       "      <td>1.2012</td>\n",
       "      <td>12.0</td>\n",
       "      <td>1.465753</td>\n",
       "      <td>0.898630</td>\n",
       "      <td>1194.0</td>\n",
       "      <td>3.271233</td>\n",
       "      <td>34.05</td>\n",
       "      <td>-118.27</td>\n",
       "    </tr>\n",
       "    <tr>\n",
       "      <th>18010</th>\n",
       "      <td>5.9658</td>\n",
       "      <td>17.0</td>\n",
       "      <td>5.873077</td>\n",
       "      <td>1.026923</td>\n",
       "      <td>775.0</td>\n",
       "      <td>2.980769</td>\n",
       "      <td>37.27</td>\n",
       "      <td>-121.99</td>\n",
       "    </tr>\n",
       "  </tbody>\n",
       "</table>\n",
       "</div>"
      ],
      "text/plain": [
       "        MedInc  HouseAge  AveRooms  AveBedrms  Population  AveOccup  Latitude  \\\n",
       "8875   13.8556      52.0  8.948148   1.077778       810.0  3.000000     34.05   \n",
       "9975    3.0938      34.0  5.424569   1.040948      1324.0  2.853448     38.58   \n",
       "17493   9.7821      28.0  8.212871   1.091584      1604.0  3.970297     34.43   \n",
       "4602    1.2012      12.0  1.465753   0.898630      1194.0  3.271233     34.05   \n",
       "18010   5.9658      17.0  5.873077   1.026923       775.0  2.980769     37.27   \n",
       "\n",
       "       Longitude  \n",
       "8875     -118.49  \n",
       "9975     -122.45  \n",
       "17493    -119.77  \n",
       "4602     -118.27  \n",
       "18010    -121.99  "
      ]
     },
     "execution_count": 8,
     "metadata": {},
     "output_type": "execute_result"
    }
   ],
   "source": [
    "X_test.head()"
   ]
  },
  {
   "cell_type": "markdown",
   "id": "bc5e2f4eabd492a3",
   "metadata": {},
   "source": [
    "# Запуск эксперимента"
   ]
  },
  {
   "cell_type": "code",
   "execution_count": 9,
   "id": "97ae744494780fae",
   "metadata": {},
   "outputs": [
    {
     "name": "stderr",
     "output_type": "stream",
     "text": [
      "2025/01/24 13:17:56 INFO mlflow.models.evaluation.default_evaluator: Testing metrics on first row...\n",
      "2025/01/24 13:17:56 WARNING mlflow.models.evaluation.default_evaluator: SHAP or matplotlib package is not installed, so model explainability insights will not be logged.\n",
      "2025/01/24 13:17:56 INFO mlflow.tracking._tracking_service.client: 🏃 View run RandomForest at: http://mlflow-service:5000/#/experiments/516513222953534560/runs/3752f7fed4484679ab9ab653d0fd0171.\n",
      "2025/01/24 13:17:56 INFO mlflow.tracking._tracking_service.client: 🧪 View experiment at: http://mlflow-service:5000/#/experiments/516513222953534560.\n"
     ]
    },
    {
     "name": "stdout",
     "output_type": "stream",
     "text": [
      "Я пытался заставить mlflow сохранять артефакты на s3 в течение долго времени, но у меня не получилось :(. Ошибка: Failed to upload /tmp/tmp3vfxtcvc/model/conda.yaml to mlops-hw/mlflow/516513222953534560/3752f7fed4484679ab9ab653d0fd0171/artifacts/RandomForest/conda.yaml: An error occurred (SignatureDoesNotMatch) when calling the PutObject operation: The request signature we calculated does not match the signature you provided. Check your key and signing method.\n"
     ]
    },
    {
     "name": "stderr",
     "output_type": "stream",
     "text": [
      "/opt/conda/lib/python3.11/site-packages/_distutils_hack/__init__.py:18: UserWarning: Distutils was imported before Setuptools, but importing Setuptools also replaces the `distutils` module in `sys.modules`. This may lead to undesirable behaviors or errors. To avoid these issues, avoid using distutils directly, ensure that setuptools is installed in the traditional way (e.g. not an editable install), and/or make sure that setuptools is always imported before distutils.\n",
      "  warnings.warn(\n",
      "/opt/conda/lib/python3.11/site-packages/_distutils_hack/__init__.py:33: UserWarning: Setuptools is replacing distutils.\n",
      "  warnings.warn(\"Setuptools is replacing distutils.\")\n",
      "2025/01/24 13:17:57 INFO mlflow.models.evaluation.default_evaluator: Testing metrics on first row...\n",
      "2025/01/24 13:17:57 WARNING mlflow.models.evaluation.default_evaluator: SHAP or matplotlib package is not installed, so model explainability insights will not be logged.\n",
      "2025/01/24 13:17:57 INFO mlflow.tracking._tracking_service.client: 🏃 View run LinearRegression at: http://mlflow-service:5000/#/experiments/516513222953534560/runs/e98468d6d2f841279826d37821ce3887.\n",
      "2025/01/24 13:17:57 INFO mlflow.tracking._tracking_service.client: 🧪 View experiment at: http://mlflow-service:5000/#/experiments/516513222953534560.\n"
     ]
    },
    {
     "name": "stdout",
     "output_type": "stream",
     "text": [
      "Я пытался заставить mlflow сохранять артефакты на s3 в течение долго времени, но у меня не получилось :(. Ошибка: Failed to upload /tmp/tmpve149pb2/model/conda.yaml to mlops-hw/mlflow/516513222953534560/e98468d6d2f841279826d37821ce3887/artifacts/LinearRegression/conda.yaml: An error occurred (SignatureDoesNotMatch) when calling the PutObject operation: The request signature we calculated does not match the signature you provided. Check your key and signing method.\n"
     ]
    },
    {
     "name": "stderr",
     "output_type": "stream",
     "text": [
      "/opt/conda/lib/python3.11/site-packages/_distutils_hack/__init__.py:18: UserWarning: Distutils was imported before Setuptools, but importing Setuptools also replaces the `distutils` module in `sys.modules`. This may lead to undesirable behaviors or errors. To avoid these issues, avoid using distutils directly, ensure that setuptools is installed in the traditional way (e.g. not an editable install), and/or make sure that setuptools is always imported before distutils.\n",
      "  warnings.warn(\n",
      "/opt/conda/lib/python3.11/site-packages/_distutils_hack/__init__.py:33: UserWarning: Setuptools is replacing distutils.\n",
      "  warnings.warn(\"Setuptools is replacing distutils.\")\n",
      "2025/01/24 13:17:58 INFO mlflow.models.evaluation.default_evaluator: Testing metrics on first row...\n",
      "2025/01/24 13:17:58 WARNING mlflow.models.evaluation.default_evaluator: SHAP or matplotlib package is not installed, so model explainability insights will not be logged.\n",
      "2025/01/24 13:17:58 INFO mlflow.tracking._tracking_service.client: 🏃 View run DecisionTree at: http://mlflow-service:5000/#/experiments/516513222953534560/runs/aa323b08e51e43f39cc32549ebedb83f.\n",
      "2025/01/24 13:17:58 INFO mlflow.tracking._tracking_service.client: 🧪 View experiment at: http://mlflow-service:5000/#/experiments/516513222953534560.\n",
      "2025/01/24 13:17:58 INFO mlflow.tracking._tracking_service.client: 🏃 View run @DenisChuzhmarov at: http://mlflow-service:5000/#/experiments/516513222953534560/runs/686b92520d044fc3b22f4d2513c76ca4.\n",
      "2025/01/24 13:17:58 INFO mlflow.tracking._tracking_service.client: 🧪 View experiment at: http://mlflow-service:5000/#/experiments/516513222953534560.\n"
     ]
    },
    {
     "name": "stdout",
     "output_type": "stream",
     "text": [
      "Я пытался заставить mlflow сохранять артефакты на s3 в течение долго времени, но у меня не получилось :(. Ошибка: Failed to upload /tmp/tmp66msnhe1/model/conda.yaml to mlops-hw/mlflow/516513222953534560/aa323b08e51e43f39cc32549ebedb83f/artifacts/DecisionTree/conda.yaml: An error occurred (SignatureDoesNotMatch) when calling the PutObject operation: The request signature we calculated does not match the signature you provided. Check your key and signing method.\n"
     ]
    }
   ],
   "source": [
    "models = dict(zip([\"RandomForest\", \"LinearRegression\", \"DecisionTree\"], \n",
    "                  [RandomForestRegressor(), LinearRegression(), DecisionTreeRegressor()]))\n",
    "\n",
    "with mlflow.start_run(run_name=\"@DenisChuzhmarov\") as parent_run:\n",
    "    parent_run_id = parent_run.info.run_id\n",
    "    for model_name in models.keys():\n",
    "        with mlflow.start_run(run_name=model_name, nested=True) as child_run:\n",
    "            model = models[model_name]\n",
    "            model.fit(X_train, y_train)\n",
    "            prediction = model.predict(X_val)\n",
    "\n",
    "            # X_val_scaled = pd.DataFrame(\n",
    "            # X_val_scaled, \n",
    "            # columns=[f\"col_{i}\" for i in range(X_val_scaled.shape[1])]).reset_index(drop=True)\n",
    "            # y_val = y_val.reset_index(drop=True)\n",
    "\n",
    "            # # Создание итогового eval_df\n",
    "            # eval_df = X_val_scaled.copy()\n",
    "            # eval_df[\"target\"] = y_val\n",
    "            # eval_df[\"prediction\"] = prediction\n",
    "\n",
    "            eval_df = X_val.copy()\n",
    "            eval_df[\"target\"] = y_val\n",
    "            eval_df[\"prediction\"] = prediction\n",
    "    \n",
    "            signature = infer_signature(X_train, prediction)\n",
    "            try:\n",
    "                model_info = mlflow.sklearn.log_model(model, model_name, signature=signature, registered_model_name=f\"sk-learn-{model_name}-reg-model\")\n",
    "            except Exception as e:\n",
    "                print(f\"Я пытался заставить mlflow сохранять артефакты на s3 в течение долго времени, но у меня не получилось :(. Ошибка: {e}\")\n",
    "            \n",
    "            mlflow.evaluate(\n",
    "                data=eval_df,\n",
    "                targets=\"target\",\n",
    "                predictions=\"prediction\",\n",
    "                model_type=\"regressor\",\n",
    "                evaluators=[\"default\"]\n",
    "            )"
   ]
  },
  {
   "cell_type": "code",
   "execution_count": null,
   "id": "be8bed53-b781-4f46-9194-4dc5852a9bc4",
   "metadata": {},
   "outputs": [],
   "source": []
  }
 ],
 "metadata": {
  "kernelspec": {
   "display_name": "Python 3 (ipykernel)",
   "language": "python",
   "name": "python3"
  },
  "language_info": {
   "codemirror_mode": {
    "name": "ipython",
    "version": 3
   },
   "file_extension": ".py",
   "mimetype": "text/x-python",
   "name": "python",
   "nbconvert_exporter": "python",
   "pygments_lexer": "ipython3",
   "version": "3.11.4"
  }
 },
 "nbformat": 4,
 "nbformat_minor": 5
}
